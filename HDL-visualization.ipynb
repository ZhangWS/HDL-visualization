{
 "cells": [
  {
   "cell_type": "markdown",
   "metadata": {},
   "source": [
    "# GIS Visualizations with Folium and GeoPandas \n",
    "\n",
    "This is a demonstration of how open source visualization tools can be applied to the civic participation space. The result is a self-contained map of Washington County, Oregon, that contains easy-to-access information about a user's state house district and 'home' HDLs."
   ]
  },
  {
   "cell_type": "markdown",
   "metadata": {},
   "source": [
    "## Set up\n",
    "\n",
    "Install any packages that you don't have and import them for use.\n",
    "You will need `geopandas` and `folium` (plus dependencies)"
   ]
  },
  {
   "cell_type": "code",
   "execution_count": null,
   "metadata": {
    "scrolled": true
   },
   "outputs": [],
   "source": [
    "!pip install geopandas folium\n",
    "\n",
    "#install them via command line with `!`"
   ]
  },
  {
   "cell_type": "code",
   "execution_count": null,
   "metadata": {},
   "outputs": [],
   "source": [
    "import geopandas as gpd\n",
    "import folium"
   ]
  },
  {
   "cell_type": "markdown",
   "metadata": {},
   "source": [
    "You will need to get the Oregon districts GIS file. \n",
    "* The 2021 redistricting shapefiles are here: https://geo.maps.arcgis.com/home/group.html?id=cffa41c3de414f6587459df048d728b5#overview"
   ]
  },
  {
   "cell_type": "code",
   "execution_count": null,
   "metadata": {},
   "outputs": [],
   "source": [
    "# Read in data. There are multiple files (Federal, State House, State Senate). \n",
    "# You will need the one for the State House\n",
    "\n",
    "shp_file='House_SB_882.shp' #this file is in the same directory as the notebook\n",
    "gdf = gpd.read_file(shp_file) "
   ]
  },
  {
   "cell_type": "code",
   "execution_count": null,
   "metadata": {},
   "outputs": [],
   "source": [
    "# This file needs to be reprojected to Lat/Long: http://epsg.io/4326\n",
    "# This is ESSENTIAL, as without this conversion, the latlong will be completely wrong!\n",
    "gdf_4326 = gdf.to_crs(epsg='4326')"
   ]
  },
  {
   "cell_type": "code",
   "execution_count": null,
   "metadata": {
    "scrolled": true
   },
   "outputs": [],
   "source": [
    "#specify the new geojson name\n",
    "json_file='oregon_lower.json'\n",
    "\n",
    "# Write converted file to disk for backup\n",
    "gdf_4326.to_file(json_file, driver=\"GeoJSON\")"
   ]
  },
  {
   "cell_type": "code",
   "execution_count": null,
   "metadata": {},
   "outputs": [],
   "source": [
    "# Read GeoJSON file into GeoPandas dataframe\n",
    "# We're doing it from disk for redundancy, though technically you can continue in the workflow by \n",
    "# calling gdf_4326\n",
    "\n",
    "gdf = gpd.read_file(\"oregon_lower.geojson\")"
   ]
  },
  {
   "cell_type": "markdown",
   "metadata": {},
   "source": [
    "Some data exploration below for the Oregon districts data. In order to make the map, you need to identify the column name for the district number, so that we can merge the HDL information on this field for later.\n",
    "\n",
    "In this case, the relevant (or at least fastest) identifier for `gdf` is `DISTRICT`."
   ]
  },
  {
   "cell_type": "code",
   "execution_count": null,
   "metadata": {
    "scrolled": true
   },
   "outputs": [],
   "source": [
    "gdf.info()"
   ]
  },
  {
   "cell_type": "markdown",
   "metadata": {},
   "source": [
    "Now we're going to import our HDL information. I made a CSV for it (`hdl_names_anon.csv`), and it lives in the same directory as the notebook. \n",
    "\n",
    "This CSV has two fields: `DISTRICT` for the House district number, and `HDL` for HDL names. You can edit this in a text editor or in a spreadsheet editor. Note that if you're editing it bare in a text editor, you will need to wrap multiple names (and commas) in double quotes. "
   ]
  },
  {
   "cell_type": "code",
   "execution_count": null,
   "metadata": {},
   "outputs": [],
   "source": [
    "import pandas as pd \n",
    "\n",
    "#import HDL information, which was collected and then entered by hand\n",
    "#This version for Github has been somewhat anonymized\n",
    "\n",
    "hdl = pd.read_csv(\"hdl_names_anon.csv\")\n",
    "hdl.info()"
   ]
  },
  {
   "cell_type": "code",
   "execution_count": null,
   "metadata": {},
   "outputs": [],
   "source": [
    "hdl.head(20)"
   ]
  },
  {
   "cell_type": "markdown",
   "metadata": {},
   "source": [
    "Merge the info in gdf (`oregon_lower.geojson`) and hdl (`hdl_names_anon.csv`) together on the column `DISTRICT` to create a unified dataframe."
   ]
  },
  {
   "cell_type": "code",
   "execution_count": null,
   "metadata": {},
   "outputs": [],
   "source": [
    "everything = gdf.merge(hdl, on=\"DISTRICT\")\n",
    "everything.info()"
   ]
  },
  {
   "cell_type": "markdown",
   "metadata": {},
   "source": [
    "## Visualization procedure"
   ]
  },
  {
   "cell_type": "code",
   "execution_count": null,
   "metadata": {},
   "outputs": [],
   "source": [
    "# Initiates a map that's centered on the lat/long for the main office of the WashCoDems at the specified zoom level\n",
    "m = folium.Map(location=[45.5231839,-122.98797], zoom_start=9.5)"
   ]
  },
  {
   "cell_type": "code",
   "execution_count": null,
   "metadata": {},
   "outputs": [],
   "source": [
    "# See how the map looks at this stage, optional\n",
    "m"
   ]
  },
  {
   "cell_type": "markdown",
   "metadata": {},
   "source": [
    "Now read in GIS information for the WashCo boundaries. The original map has the boundaries, but they can't been see very clearly."
   ]
  },
  {
   "cell_type": "code",
   "execution_count": null,
   "metadata": {},
   "outputs": [],
   "source": [
    "washco = gpd.read_file('washco.json')"
   ]
  },
  {
   "cell_type": "markdown",
   "metadata": {},
   "source": [
    "Apply it to the map `m` that we just created with black boundaries. It is now also lightly filled in white."
   ]
  },
  {
   "cell_type": "code",
   "execution_count": null,
   "metadata": {
    "scrolled": true
   },
   "outputs": [],
   "source": [
    "folium.GeoJson(washco, name='County Boundaries',control=False,\n",
    "                       style_function=lambda x: {\"weight\":3, 'color':'black','fillColor':'white'}).add_to(m)"
   ]
  },
  {
   "cell_type": "code",
   "execution_count": null,
   "metadata": {},
   "outputs": [],
   "source": [
    "# see how the map looks after adding boundaries, again optional\n",
    "m"
   ]
  },
  {
   "cell_type": "markdown",
   "metadata": {},
   "source": [
    "This next step creates almost the entire visualization.\n",
    "\n",
    "It reads in the information in `everything` (the dataframe), and\n",
    "1. applies house district boundary lines in dark blue\n",
    "2. colors in districts that have an HDL (if the HDL field isn't marked as 'Vacant!') in blue, white if there is no HDL\n",
    "3. Add a tooltip when you place your mouse over it with the House District # and the HDL names\n",
    "4. adds it to the existing map `m`"
   ]
  },
  {
   "cell_type": "code",
   "execution_count": null,
   "metadata": {},
   "outputs": [],
   "source": [
    "folium.features.GeoJson(everything, name=\"House Districts\", \n",
    "                        style_function=lambda x: {\"weight\":2,'color':'blue',\n",
    "                                                  'opacity':0.5,'fillColor':'blue' \n",
    "                                                      if x['properties']['HDL'] != 'Vacant!' \n",
    "                                                      else 'white',\n",
    "                                                  'fillOpacity':'0.1'},\n",
    "                        tooltip=folium.features.GeoJsonTooltip(['DISTRICT','HDL'], \n",
    "                                                       aliases=['House District #', 'HDL(s)'])).add_to(m)"
   ]
  },
  {
   "cell_type": "code",
   "execution_count": null,
   "metadata": {},
   "outputs": [],
   "source": [
    "# Now see for yourself!\n",
    "m"
   ]
  },
  {
   "cell_type": "code",
   "execution_count": null,
   "metadata": {},
   "outputs": [],
   "source": [
    "#Add controls to map\n",
    "\n",
    "folium.LayerControl(autoZIndex=False, collapsed=False).add_to(m)"
   ]
  },
  {
   "cell_type": "code",
   "execution_count": null,
   "metadata": {},
   "outputs": [],
   "source": [
    "#add full screen option to map\n",
    "from folium import plugins\n",
    "\n",
    "plugins.Fullscreen(position='topleft', title='Full Screen', title_cancel='Exit Full Screen', force_separate_button=False).add_to(m)"
   ]
  },
  {
   "cell_type": "code",
   "execution_count": null,
   "metadata": {},
   "outputs": [],
   "source": [
    "# optional: see what it looks like now\n",
    "m"
   ]
  },
  {
   "cell_type": "code",
   "execution_count": null,
   "metadata": {},
   "outputs": [],
   "source": [
    "# saves the map to a self-contained webpage in the same directory as the notebook.\n",
    "m.save(\"prototype.html\")   "
   ]
  },
  {
   "cell_type": "markdown",
   "metadata": {},
   "source": [
    "And you're done. Bye!"
   ]
  }
 ],
 "metadata": {
  "kernelspec": {
   "display_name": "Python 3",
   "language": "python",
   "name": "python3"
  },
  "language_info": {
   "codemirror_mode": {
    "name": "ipython",
    "version": 3
   },
   "file_extension": ".py",
   "mimetype": "text/x-python",
   "name": "python",
   "nbconvert_exporter": "python",
   "pygments_lexer": "ipython3",
   "version": "3.7.3"
  }
 },
 "nbformat": 4,
 "nbformat_minor": 2
}
